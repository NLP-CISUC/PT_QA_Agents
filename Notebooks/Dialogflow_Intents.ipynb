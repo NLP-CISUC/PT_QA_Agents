{
  "nbformat": 4,
  "nbformat_minor": 0,
  "metadata": {
    "colab": {
      "name": "Dialogflow_Intents.ipynb",
      "provenance": [],
      "collapsed_sections": []
    },
    "kernelspec": {
      "name": "python3",
      "display_name": "Python 3"
    },
    "language_info": {
      "name": "python"
    }
  },
  "cells": [
    {
      "cell_type": "markdown",
      "source": [
        "\n",
        "\n",
        "```\n",
        "# Google Dialogflow - Intents\n",
        "```\n",
        "\n"
      ],
      "metadata": {
        "id": "goA3qvVouxEg"
      }
    },
    {
      "cell_type": "code",
      "source": [
        "# receives\n",
        "# .txt file containing a list of question-answer pairs identified by 'P: ' and 'R: '\n",
        "# .txt file with a list of questions, one question per line\n",
        "\n",
        "# retrieves\n",
        "# .txt file containing the posed questions and respective Dialogflow's answers, identified by 'P: ' and 'R: '"
      ],
      "metadata": {
        "id": "89LcW57Su1Ya"
      },
      "execution_count": null,
      "outputs": []
    },
    {
      "cell_type": "code",
      "source": [
        "pip install google-cloud-dialogflow"
      ],
      "metadata": {
        "id": "Dd-ilD61u6wh"
      },
      "execution_count": null,
      "outputs": []
    },
    {
      "cell_type": "code",
      "source": [
        "pip install google-api-core==1.28.0"
      ],
      "metadata": {
        "id": "u4u_2wU1zIH2"
      },
      "execution_count": null,
      "outputs": []
    },
    {
      "cell_type": "code",
      "source": [
        "from google.cloud import dialogflow_v2beta1 as dialogflow\n",
        "from google.api_core.exceptions import InvalidArgument\n",
        "import time"
      ],
      "metadata": {
        "id": "Q6bN6Xxuu8o7"
      },
      "execution_count": 7,
      "outputs": []
    },
    {
      "cell_type": "code",
      "source": [
        "# mount google drive\n",
        "from google.colab import drive\n",
        "drive.mount('/content/drive')"
      ],
      "metadata": {
        "id": "1d0C7PjKvUTc"
      },
      "execution_count": null,
      "outputs": []
    },
    {
      "cell_type": "code",
      "source": [
        "# google cloud project credentials\n",
        "import os\n",
        "os.environ['GOOGLE_APPLICATION_CREDENTIALS'] = # path to json file with credentials\n",
        "!echo $GOOGLE_APPLICATION_CREDENTIALS"
      ],
      "metadata": {
        "id": "MkXHuomXu-Vz"
      },
      "execution_count": null,
      "outputs": []
    },
    {
      "cell_type": "code",
      "execution_count": 4,
      "metadata": {
        "id": "1AH_jqFhf5V6"
      },
      "outputs": [],
      "source": [
        "# file management\n",
        "def open_file(filename):\n",
        "    read_file = open(filename, 'r')\n",
        "    file_cont = read_file.readlines()\n",
        "    read_file.close()\n",
        "\n",
        "    return file_cont\n",
        "\n",
        "def write_file(filename, content):\n",
        "    file_write = open(filename, 'w')\n",
        "    file_write.writelines(content)\n",
        "    file_write.close()"
      ]
    },
    {
      "cell_type": "code",
      "source": [
        "# creates an intent with the given training phrase and answer\n",
        "def create_intent(project_id, intent_name, training_phrase, answer):\n",
        "    language = 'pt'\n",
        "\n",
        "    intents_client = dialogflow.IntentsClient()\n",
        "    parent = dialogflow.AgentsClient.agent_path(project_id)\n",
        "    training_phrases = []\n",
        "\n",
        "    # create a training phrase\n",
        "    part = dialogflow.Intent.TrainingPhrase.Part(text=training_phrase)\n",
        "    training_phrase = dialogflow.Intent.TrainingPhrase(parts=[part])\n",
        "    training_phrases.append(training_phrase)\n",
        "\n",
        "    # create an answer\n",
        "    text = dialogflow.Intent.Message.Text(text=[answer])\n",
        "    message = dialogflow.Intent.Message(text=text)\n",
        "\n",
        "    # create the intent\n",
        "    intent = dialogflow.Intent(display_name=intent_name, training_phrases=training_phrases, messages=[message])\n",
        "    response = intents_client.create_intent(request={\"parent\": parent, \"intent\": intent})"
      ],
      "metadata": {
        "id": "4cSvoNs1kgHU"
      },
      "execution_count": 5,
      "outputs": []
    },
    {
      "cell_type": "code",
      "source": [
        "# creates an intent per training phrase in list\n",
        "def create_all_intents(project_id, intents_list, training_phrases_list, answers_list):\n",
        "\n",
        "    # due to usage limitation, wait 30 seconds for each 10 created intents\n",
        "    for i in range(len(intents_list)):\n",
        "        if i >= 1:\n",
        "            if i % 10 == 0:\n",
        "                print('... waiting ...')\n",
        "                time.sleep(30)\n",
        "        \n",
        "        # create the intent   \n",
        "        create_intent(project_id, intents_list[i], training_phrases_list[i], answers_list[i])\n",
        "        print('Created Intent: ', intents_list[i])\n",
        "\n",
        "    print('All intents created!')"
      ],
      "metadata": {
        "id": "ej0nvmT_ki_E"
      },
      "execution_count": 6,
      "outputs": []
    },
    {
      "cell_type": "code",
      "source": [
        "# returns the answer corresponding to the question in position question_index of question-answer pairs file\n",
        "def get_answer(file_content, question_index):\n",
        "    answer = ''\n",
        "\n",
        "    for i in range(question_index + 1, len(file_content)):\n",
        "        if file_content[i] == '\\n' or 'P: ' in file_content[i]:\n",
        "            break\n",
        "        else:\n",
        "            answer = answer + file_content[i]\n",
        "\n",
        "    return answer"
      ],
      "metadata": {
        "id": "kAqio5B2rVj5"
      },
      "execution_count": 10,
      "outputs": []
    },
    {
      "cell_type": "code",
      "source": [
        "# divides questions and answers in lists of training phrases and answers, to create intents\n",
        "# the same position in each list represents the question-answer pair\n",
        "def prepare_file(project_id, domain_file_path):\n",
        "    faqs_list = open_file(domain_file_path)\n",
        "    intents_list = []\n",
        "    training_phrases_list = []\n",
        "    answers_list = []\n",
        "    count = 0\n",
        "\n",
        "    # for each 'P: ' found, adds the respective question and answer to training phrase and answer lists\n",
        "    for i in range(len(faqs_list)):\n",
        "        if 'P: ' in faqs_list[i]:\n",
        "            count+=1\n",
        "\n",
        "            # name of each intent\n",
        "            intents_list.append('Intent' + str(count))\n",
        "            aux_question = faqs_list[i].replace('P: ', '')\n",
        "            \n",
        "            # maximum lenght for a training phrase\n",
        "            if len(aux_question) > 768:\n",
        "                aux_question = aux_question[:767]\n",
        "\n",
        "            # adds question to training phrase list\n",
        "            training_phrases_list.append(aux_question)\n",
        "\n",
        "            # adds respective answer to answers list\n",
        "            answer = get_answer(faqs_list, i)\n",
        "            aux_answer = answer.replace('R: ', '')\n",
        "            answers_list.append(aux_answer)\n",
        "                \n",
        "        else:\n",
        "            continue\n",
        "\n",
        "    return intents_list, training_phrases_list, answers_list\n",
        "    # create_all_intents(project_id, intents_list, training_phrases_list, responses_list)"
      ],
      "metadata": {
        "id": "vlP4y5UZknjj"
      },
      "execution_count": 15,
      "outputs": []
    },
    {
      "cell_type": "code",
      "source": [
        "# given a question, retrieves Dialogflow's answer\n",
        "def retrieve_answer(project_id, language, session_id, question):\n",
        "    session_client = dialogflow.SessionsClient()\n",
        "    session = session_client.session_path(project_id, session_id)\n",
        "\n",
        "    text_input = dialogflow.TextInput(text=question, language_code=language)\n",
        "    query_input = dialogflow.QueryInput(text=text_input)\n",
        "\n",
        "    try:\n",
        "        answer = session_client.detect_intent(session=session, query_input=query_input)\n",
        "    except InvalidArgument:\n",
        "        raise\n",
        "\n",
        "    return answer"
      ],
      "metadata": {
        "id": "BPSFrrH8nsoZ"
      },
      "execution_count": 12,
      "outputs": []
    },
    {
      "cell_type": "code",
      "source": [
        "# retrieves a file with the posed questions and Dialogflows's answers\n",
        "def testing(project_id, language, session_id, input_questions_file_path, save_file_path):\n",
        "    input_questions = open_file(input_questions_file_path)\n",
        "    final_file_content = []\n",
        "\n",
        "    for i in range(len(input_questions)):\n",
        "        # due to usage limitation, wait 30 seconds for each 10 retrieved answers\n",
        "        if i >= 1:\n",
        "            if i % 10 == 0:\n",
        "                print('... waiting ...')\n",
        "                time.sleep(30)\n",
        "\n",
        "        # maximum lenght for an input question\n",
        "        aux_question = input_questions[i]\n",
        "        if len(aux_question) > 256:\n",
        "            aux_question = aux_question[0:256]\n",
        "\n",
        "        # retrieves answer to input question\n",
        "        answer = retrieve_answer(project_id, language, session_id, aux_question)\n",
        "        print('Response %d retrieved' % (i+1))\n",
        "\n",
        "        # creates the final file containing all posed questions and respective retrieved answers, with 'P: ' and 'R: ' identifiers\n",
        "        aux_q = 'P: ' + aux_question\n",
        "        final_file_content.append(aux_q)\n",
        "\n",
        "        aux_a = 'R: ' + answer.query_result.fulfillment_text\n",
        "        final_file_content.append(aux_a)\n",
        "        final_file_content.append('\\n')\n",
        "\n",
        "    write_file(save_file_path, final_file_content)\n",
        "    print('File with posed questions and respective answers created!')"
      ],
      "metadata": {
        "id": "5TqTGIaOhFrK"
      },
      "execution_count": 20,
      "outputs": []
    },
    {
      "cell_type": "code",
      "source": [
        "# NOTES\n",
        "\n",
        "# prior to running the code, google cloud credentials and a project must be created on the google cloud platform\n",
        "# https://console.cloud.google.com/?hl=pt\n",
        "\n",
        "# in addition, a google dialogflow agent must be created on the dialogflow platform\n",
        "# https://dialogflow.cloud.google.com/\n",
        "\n",
        "# domain_file_path - path to the file containing the domain\n",
        "# must be a file containing question-answer pairs identified with 'P: ' and 'R: ', respectively\n",
        "# FAQs                      \n",
        "# P: question1             \n",
        "# R: answer1           \n",
        "# \\n                        \n",
        "# P: question2              \n",
        "# R: answer2                \n",
        "# \\n                       \n",
        "# must be a .txt file\n",
        "\n",
        "# questions_file_path - path to the file containing all questions, one question per line\n",
        "# Q1\n",
        "# Q2\n",
        "# Q3\n",
        "# ...\n",
        "# must be a .txt file\n",
        "\n",
        "# save_file_path - path to the file where the posed questions and respective retrieved answers are to be saved\n",
        "# must be a .txt file"
      ],
      "metadata": {
        "id": "vs3A_aN-vGF9"
      },
      "execution_count": null,
      "outputs": []
    },
    {
      "cell_type": "code",
      "source": [
        "project_id = # 'project-id' retrieved from google cloud project, created in google cloud platform\n",
        "session_id = '1234567890'\n",
        "language = 'pt'\n",
        "\n",
        "domain_file_path = # 'domain_file_path'\n",
        "input_questions_file_path = # 'input_questions_file_path'\n",
        "save_file_path = # 'save_file_path'\n",
        "\n",
        "(intents_list, training_phrases_list, answers_list) = prepare_file(project_id, domain_file_path)\n",
        "create_all_intents(project_id, intents_list, training_phrases_list, answers_list)\n",
        "testing(project_id, language, session_id, input_questions_file_path, save_file_path)"
      ],
      "metadata": {
        "id": "kQfMHGumqjun"
      },
      "execution_count": null,
      "outputs": []
    }
  ]
}