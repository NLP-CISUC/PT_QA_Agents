{
  "nbformat": 4,
  "nbformat_minor": 0,
  "metadata": {
    "colab": {
      "name": "Dialogflow_KB.ipynb",
      "provenance": [],
      "collapsed_sections": []
    },
    "kernelspec": {
      "name": "python3",
      "display_name": "Python 3"
    },
    "language_info": {
      "name": "python"
    }
  },
  "cells": [
    {
      "cell_type": "markdown",
      "source": [
        "\n",
        "\n",
        "```\n",
        "# Google Dialogflow - Knowledge Base\n",
        "```\n",
        "\n"
      ],
      "metadata": {
        "id": "5Aq9tmSBx4o-"
      }
    },
    {
      "cell_type": "code",
      "execution_count": null,
      "metadata": {
        "id": "uats1G9kx0nT"
      },
      "outputs": [],
      "source": [
        "# receives\n",
        "# .txt file containing a list of question-answer pairs identified by 'P: ' and 'R: '\n",
        "# .txt file with a list of questions, one question per line\n",
        "\n",
        "# or\n",
        "\n",
        "# .txt file containing raw text\n",
        "# .txt file with a list of questions, one question per line\n",
        "\n",
        "# retrieves\n",
        "# .txt file containing the posed questions and respective Dialogflow's answers, identified by 'P: ' and 'R: '"
      ]
    },
    {
      "cell_type": "code",
      "source": [
        "pip install google-cloud-dialogflow"
      ],
      "metadata": {
        "id": "kXLOglcQyE9D"
      },
      "execution_count": null,
      "outputs": []
    },
    {
      "cell_type": "code",
      "source": [
        "pip install google-api-core==1.28.0"
      ],
      "metadata": {
        "id": "1joIYrEh1hSv"
      },
      "execution_count": null,
      "outputs": []
    },
    {
      "cell_type": "code",
      "source": [
        "from google.cloud import dialogflow_v2beta1 as dialogflow\n",
        "from google.api_core.exceptions import InvalidArgument\n",
        "import time"
      ],
      "metadata": {
        "id": "yFeWBcE3yFEu"
      },
      "execution_count": null,
      "outputs": []
    },
    {
      "cell_type": "code",
      "source": [
        "# mount google drive\n",
        "from google.colab import drive\n",
        "drive.mount('/content/drive')"
      ],
      "metadata": {
        "id": "k46XD7MMyKxe"
      },
      "execution_count": null,
      "outputs": []
    },
    {
      "cell_type": "code",
      "source": [
        "# google cloud project credentials\n",
        "import os\n",
        "os.environ['GOOGLE_APPLICATION_CREDENTIALS'] = # path to json file with credentials\n",
        "!echo $GOOGLE_APPLICATION_CREDENTIALS"
      ],
      "metadata": {
        "id": "oUpr855YyIao"
      },
      "execution_count": null,
      "outputs": []
    },
    {
      "cell_type": "code",
      "source": [
        "# file management\n",
        "def open_file(filename):\n",
        "    read_file = open(filename, 'r')\n",
        "    file_cont = read_file.readlines()\n",
        "    read_file.close()\n",
        "\n",
        "    return file_cont\n",
        "\n",
        "def write_file(filename, content):\n",
        "    file_write = open(filename, 'w')\n",
        "    file_write.writelines(content)\n",
        "    file_write.close()"
      ],
      "metadata": {
        "id": "JEYUMULayJeV"
      },
      "execution_count": null,
      "outputs": []
    },
    {
      "cell_type": "code",
      "source": [
        "# creates a knowledge base, empty\n",
        "def create_knowledge_base(project_id, display_name):\n",
        "    client = dialogflow.KnowledgeBasesClient()\n",
        "    project_path = client.common_project_path(project_id)\n",
        "    knowledge_base = dialogflow.KnowledgeBase(display_name=display_name)\n",
        "    response = client.create_knowledge_base(parent=project_path, knowledge_base=knowledge_base)\n",
        "\n",
        "    print('Created Knowledge Base:')\n",
        "    print(' - Display Name: {}'.format(response.display_name))\n",
        "    print(' - Knowledge Base ID: {}\\n'.format(response.name))\n",
        "\n",
        "    return response.name\n",
        "\n",
        "# creates a document to insert in knowledge base\n",
        "def create_document(project_id, knowledge_base_id, display_name, mime_type, knowledge_type, content_uri):\n",
        "    client = dialogflow.DocumentsClient()\n",
        "    knowledge_base_path = dialogflow.KnowledgeBasesClient.knowledge_base_path(project_id, knowledge_base_id)\n",
        "    \n",
        "    in_file = open(content_uri, \"rb\")\n",
        "    fileBytes = in_file.read()\n",
        "    in_file.close()\n",
        "\n",
        "    document = dialogflow.Document(display_name=display_name, mime_type=mime_type,raw_content=fileBytes)\n",
        "    document.knowledge_types.append(getattr(dialogflow.Document.KnowledgeType, knowledge_type))\n",
        "\n",
        "    response = client.create_document(parent=knowledge_base_id, document=document)\n",
        "    print('... waiting for results ...\\n')\n",
        "    document = response.result(timeout=500)\n",
        "\n",
        "    print('Document ' + display_name + ' created!')"
      ],
      "metadata": {
        "id": "1xHT62aFyUmi"
      },
      "execution_count": null,
      "outputs": []
    },
    {
      "cell_type": "code",
      "source": [
        "# given a question, retrieves answer from knowledge base\n",
        "def retrieve_answer(project_id, session_id, language_code, knowledge_base_id, question):\n",
        "    session_client = dialogflow.SessionsClient()\n",
        "    session_path = session_client.session_path(project_id, session_id)\n",
        "\n",
        "    text_input = dialogflow.TextInput(text=question, language_code=language_code)\n",
        "    query_input = dialogflow.QueryInput(text=text_input)\n",
        "    query_params = dialogflow.QueryParameters(knowledge_base_names=[knowledge_base_id])\n",
        "\n",
        "    request = dialogflow.DetectIntentRequest(session=session_path, query_input=query_input, query_params=query_params)\n",
        "\n",
        "    response = session_client.detect_intent(request=request)\n",
        "    knowledge_answers = response.query_result.knowledge_answers\n",
        "\n",
        "    return knowledge_answers"
      ],
      "metadata": {
        "id": "lJUasHP0zNoJ"
      },
      "execution_count": null,
      "outputs": []
    },
    {
      "cell_type": "code",
      "source": [
        "# retrieves a file with the posed questions and Dialogflows's answers\n",
        "def retrieve_all_answers(project_id, session_id, language_code, knowledge_base_id, input_questions_file_path, save_file_path):\n",
        "    input_questions = open_file(input_questions_file_path)\n",
        "    final_file_content =  []\n",
        "\n",
        "    for i in range(len(input_questions)):\n",
        "        # maximum lenght for an input question\n",
        "        aux_question = input_questions[i]\n",
        "        if len(aux_question) > 256:\n",
        "            aux_question = aux_question[0:256]\n",
        "\n",
        "        # retrieves answer to input question\n",
        "        knowledge_answers = retrieve_answer(project_id, session_id, language_code, knowledge_base_id, aux_question)\n",
        "        print('Response %d retrieved' % (i+1))\n",
        "\n",
        "        # creates the final file containing all posed questions and respective retrieved answers, with 'P: ' and 'R: ' identifiers\n",
        "        aux_q ='P:' + input_questions[i]\n",
        "        final_file_content.append(aux_q)\n",
        "        \n",
        "        for answers in knowledge_answers.answers:\n",
        "            aux_a = 'R:' + answers.answer\n",
        "            responses.append(aux_a)\n",
        "            break\n",
        "\n",
        "        final_file_content.append('\\n')\n",
        "        final_file_content.append('\\n')\n",
        "\n",
        "    write_file(save_file_path, final_file_content)\n",
        "    print('File with posed questions and respective answers created!')"
      ],
      "metadata": {
        "id": "MPAS3lHEyLGF"
      },
      "execution_count": null,
      "outputs": []
    },
    {
      "cell_type": "code",
      "source": [
        "# creates knowledge base, adds document and stores answers in file\n",
        "def testing(project_id, display_name, documents_info, input_questions_file_path, save_file_path):\n",
        "    # create knowledge base\n",
        "    knowledge_base_id = create_knowledge_base(project_id, display_name)\n",
        "\n",
        "    # add document to knowledge base\n",
        "    for i in range(len(documents_info)):\n",
        "        create_document(project_id, knowledge_base_id, documents_info[i][0], documents_info[i][1], documents_info[i][2], documents_info[i][3])\n",
        "\n",
        "    # retrieve and store answers\n",
        "    retrieve_all_answers(project_id, '1234567890', 'en', knowledge_base_id, input_questions_file_path, save_file_path)"
      ],
      "metadata": {
        "id": "LY-TYebP3nPZ"
      },
      "execution_count": null,
      "outputs": []
    },
    {
      "cell_type": "code",
      "source": [
        "# NOTES\n",
        "\n",
        "# prior to running the code, google cloud credentials and a project must be created on the google cloud platform\n",
        "# https://console.cloud.google.com/?hl=pt\n",
        "\n",
        "# in addition, a google dialogflow agent must be created on the dialogflow platform and beta features enabled\n",
        "# https://dialogflow.cloud.google.com/\n",
        "\n",
        "# domain_file_path - path to the file containing the domain\n",
        "# FAQs\n",
        "# can be .csv, where file_type = 'text/csv'\n",
        "# can be .html, where file_type = 'text/html'\n",
        "\n",
        "# Text\n",
        "# can be .txt, where file_type = 'text/plain'\n",
        "# can be .html, where file_type = 'text/html'\n",
        "# can be .pdf, where file_type = 'application/pdf'\n",
        "\n",
        "# questions_file_path - path to the file containing all questions, one question per line\n",
        "# Q1\n",
        "# Q2\n",
        "# Q3\n",
        "# ...\n",
        "# must be a .txt file\n",
        "\n",
        "# save_file_path - path to the file where the posed questions and respective retrieved answers are to be saved\n",
        "# must be a .txt file"
      ],
      "metadata": {
        "id": "i_6K-P5F2VTZ"
      },
      "execution_count": null,
      "outputs": []
    },
    {
      "cell_type": "code",
      "source": [
        "# FAQs knowledge base\n",
        "document_name = # 'doc_name'\n",
        "file_type = # 'file_type'\n",
        "knowledge_type = 'FAQ'\n",
        "\n",
        "domain_file_path = # 'domain_file_path'\n",
        "input_questions_file_path = # 'input_questions_file_path'\n",
        "save_file_path = # 'input_questions_file_path'\n",
        "\n",
        "# create one document\n",
        "document_1 = [document_name, file_type, knowledge_type, domain_file_path]\n",
        "documents_info = [document_1]\n",
        "\n",
        "testing(project_id, display_name, documents_info, input_questions_file_path, save_file_path)"
      ],
      "metadata": {
        "id": "R7SQ17Gs4tzg"
      },
      "execution_count": null,
      "outputs": []
    },
    {
      "cell_type": "code",
      "source": [
        "# Text knowledge base\n",
        "document_name = # 'doc_name'\n",
        "file_type = # 'file_type'\n",
        "knowledge_type = 'EXTRACTIVE_QA'\n",
        "\n",
        "domain_file_path = # 'domain_file_path'\n",
        "input_questions_file_path = # 'input_questions_file_path'\n",
        "save_file_path = # 'save_file_path'\n",
        "\n",
        "# create one document\n",
        "document_1 = [document_name, file_type, knowledge_type, domain_file_path]\n",
        "documents_info = [document_1]\n",
        "\n",
        "testing(project_id, display_name, documents_info, input_questions_file_path, save_file_path)"
      ],
      "metadata": {
        "id": "gzOM23hl342q"
      },
      "execution_count": null,
      "outputs": []
    }
  ]
}